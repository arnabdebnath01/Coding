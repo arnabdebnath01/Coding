{
 "cells": [
  {
   "cell_type": "code",
   "execution_count": 1,
   "id": "7a8ca749-dac9-4ec2-b929-99712e660923",
   "metadata": {},
   "outputs": [
    {
     "name": "stdout",
     "output_type": "stream",
     "text": [
      "9\n"
     ]
    }
   ],
   "source": [
    "\"\"\"\n",
    "Roman to Number\n",
    "\"\"\"\n",
    "\n",
    "def romanToInt(st):\n",
    "    m = {\n",
    "        \"I\": 1,\n",
    "        \"V\": 5,\n",
    "        \"X\": 10,\n",
    "        \"L\": 50,\n",
    "        \"C\": 100,\n",
    "        \"D\": 500,\n",
    "        \"M\": 1000\n",
    "    }\n",
    "\n",
    "    ans = 0\n",
    "    for i in range(len(st)):\n",
    "        if i < len(st)-1 and m[st[i]] < m[st[i+1]]:\n",
    "            ans -= m[st[i]]\n",
    "        else:\n",
    "            ans += m[st[i]]\n",
    "    return ans\n",
    "\n",
    "\n",
    "st = \"IX\"\n",
    "print(romanToInt(st))"
   ]
  },
  {
   "cell_type": "code",
   "execution_count": null,
   "id": "f7adaade-40e8-471c-8962-de072f7fc8ad",
   "metadata": {},
   "outputs": [],
   "source": [
    "\"\"\"\n",
    "Integer to Roman\n",
    "Seven different symbols represent Roman numerals with the following values:\n",
    "\n",
    "Symbol\tValue\n",
    "I\t1\n",
    "V\t5\n",
    "X\t10\n",
    "L\t50\n",
    "C\t100\n",
    "D\t500\n",
    "M\t1000\n",
    "Roman numerals are formed by appending the conversions of decimal place values from highest to lowest. Converting a decimal place value into a Roman numeral has the following rules:\n",
    "\n",
    "If the value does not start with 4 or 9, select the symbol of the maximal value that can be subtracted from the input, append that symbol to the result, subtract its value, and convert the remainder to a Roman numeral.\n",
    "If the value starts with 4 or 9 use the subtractive form representing one symbol subtracted from the following symbol, for example, 4 is 1 (I) less than 5 (V): IV and 9 is 1 (I) less than 10 (X): IX. Only the following subtractive forms are used: 4 (IV), 9 (IX), 40 (XL), 90 (XC), 400 (CD) and 900 (CM).\n",
    "Only powers of 10 (I, X, C, M) can be appended consecutively at most 3 times to represent multiples of 10. You cannot append 5 (V), 50 (L), or 500 (D) multiple times. If you need to append a symbol 4 times use the subtractive form.\n",
    "Given an integer, convert it to a Roman numeral.\n",
    "\n",
    "Example 1:\n",
    "\n",
    "Input: num = 3749\n",
    "\n",
    "Output: \"MMMDCCXLIX\"\n",
    "\n",
    "Explanation:\n",
    "\n",
    "3000 = MMM as 1000 (M) + 1000 (M) + 1000 (M)\n",
    " 700 = DCC as 500 (D) + 100 (C) + 100 (C)\n",
    "  40 = XL as 10 (X) less of 50 (L)\n",
    "   9 = IX as 1 (I) less of 10 (X)\n",
    "Note: 49 is not 1 (I) less of 50 (L) because the conversion is based on decimal places\n",
    "\"\"\"\n",
    "\n",
    "def intToRoman(self, num: int) -> str:\n",
    "    value = [1000,900,500,400,100,90,50,40,10,9,5,4,1]\n",
    "    rom = [\"M\",\"CM\",\"D\",\"CD\",\"C\",\"XC\",\"L\",\"XL\",\"X\",\"IX\",\"V\",\"IV\",\"I\"]\n",
    "        ans = \"\"\n",
    "        for i in range(13):\n",
    "            while num >= value[i]:\n",
    "                ans += rom[i]\n",
    "                num -= value[i]\n",
    "\n",
    "        return ans \n",
    "\n",
    "num = 3749\n",
    "print()"
   ]
  }
 ],
 "metadata": {
  "kernelspec": {
   "display_name": "Python 3 (ipykernel)",
   "language": "python",
   "name": "python3"
  },
  "language_info": {
   "codemirror_mode": {
    "name": "ipython",
    "version": 3
   },
   "file_extension": ".py",
   "mimetype": "text/x-python",
   "name": "python",
   "nbconvert_exporter": "python",
   "pygments_lexer": "ipython3",
   "version": "3.11.7"
  }
 },
 "nbformat": 4,
 "nbformat_minor": 5
}
