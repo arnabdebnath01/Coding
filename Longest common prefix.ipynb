{
 "cells": [
  {
   "cell_type": "code",
   "execution_count": 1,
   "id": "20f6611d-6ff8-4ffc-b8cd-d55314bd0080",
   "metadata": {},
   "outputs": [
    {
     "name": "stdout",
     "output_type": "stream",
     "text": [
      "['flight', 'flow', 'flower']\n",
      "f\n",
      "f\n",
      "1\n",
      "l\n",
      "l\n",
      "2\n",
      "Longest Common Prefix: fl\n"
     ]
    }
   ],
   "source": [
    "\"\"\"\n",
    "Longest Common Prefix\n",
    "Write a function to find the longest common prefix string amongst an array of strings.\n",
    "\n",
    "If there is no common prefix, return an empty string \"\".\n",
    "\n",
    " Example 1:\n",
    "\n",
    "Input: strs = [\"flower\",\"flow\",\"flight\"]\n",
    "Output: \"fl\"\n",
    "Example 2:\n",
    "\n",
    "Input: strs = [\"dog\",\"racecar\",\"car\"]\n",
    "Output: \"\"\n",
    "Explanation: There is no common prefix among the input strings.\n",
    "\"\"\"\n",
    "\n",
    "def longestCommonPrefix(strs):\n",
    "    strs.sort()\n",
    "    print(strs)\n",
    "    min_length = min(len(strs[0]), len(strs[-1]))\n",
    "    first = strs[0]\n",
    "    last = strs[-1]\n",
    "    i = 0\n",
    "    while i < min_length and first[i] == last[i]:\n",
    "        print(first[i])\n",
    "        print(last[i])\n",
    "        i+=1\n",
    "        print(i)\n",
    "    if i == 0:\n",
    "        return \"\"\n",
    "    else:\n",
    "        return first[:i]\n",
    "\n",
    "strs = [\"flower\",\"flow\",\"flight\"]\n",
    "print(\"Longest Common Prefix:\",longestCommonPrefix(strs))"
   ]
  },
  {
   "cell_type": "code",
   "execution_count": null,
   "id": "251b0c6b-3465-490b-9b03-e8d0c40470d0",
   "metadata": {},
   "outputs": [],
   "source": []
  }
 ],
 "metadata": {
  "kernelspec": {
   "display_name": "Python 3 (ipykernel)",
   "language": "python",
   "name": "python3"
  },
  "language_info": {
   "codemirror_mode": {
    "name": "ipython",
    "version": 3
   },
   "file_extension": ".py",
   "mimetype": "text/x-python",
   "name": "python",
   "nbconvert_exporter": "python",
   "pygments_lexer": "ipython3",
   "version": "3.11.7"
  }
 },
 "nbformat": 4,
 "nbformat_minor": 5
}
