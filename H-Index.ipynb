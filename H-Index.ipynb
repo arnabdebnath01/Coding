{
 "cells": [
  {
   "cell_type": "code",
   "execution_count": 1,
   "id": "65a2f20a-047a-4414-8e05-ec60e0d0efce",
   "metadata": {},
   "outputs": [
    {
     "name": "stdout",
     "output_type": "stream",
     "text": [
      "3\n"
     ]
    }
   ],
   "source": [
    "\"\"\"\n",
    "H-Index\n",
    "\n",
    "Given an array of integers citations where citations[i] is the number of citations a researcher received for their ith paper, return the researcher's h-index.\n",
    "\n",
    "According to the definition of h-index on Wikipedia: The h-index is defined as the maximum value of h such that the given researcher has published at least h papers that have each been cited at least h times.\n",
    "\n",
    " \n",
    "\n",
    "Example 1:\n",
    "\n",
    "Input: citations = [3,0,6,1,5]\n",
    "Output: 3\n",
    "Explanation: [3,0,6,1,5] means the researcher has 5 papers in total and each of them had received 3, 0, 6, 1, 5 citations respectively.\n",
    "Since the researcher has 3 papers with at least 3 citations each and the remaining two with no more than 3 citations each, their h-index is 3.\n",
    "Example 2:\n",
    "\n",
    "Input: citations = [1,3,1]\n",
    "Output: 1\n",
    "\n",
    "\"\"\"\n",
    "\n",
    "def hIndex(citations):\n",
    "    citations.sort(reverse=True)\n",
    "    h=0\n",
    "    for num in citations:\n",
    "        if num >= h+1:\n",
    "            h+=1\n",
    "    return h\n",
    "\n",
    "citations = [3,0,6,1,5]\n",
    "print(hIndex(citations))"
   ]
  },
  {
   "cell_type": "code",
   "execution_count": null,
   "id": "85f512a4-e444-478c-97da-8e44c8fbd6d0",
   "metadata": {},
   "outputs": [],
   "source": []
  }
 ],
 "metadata": {
  "kernelspec": {
   "display_name": "Python 3 (ipykernel)",
   "language": "python",
   "name": "python3"
  },
  "language_info": {
   "codemirror_mode": {
    "name": "ipython",
    "version": 3
   },
   "file_extension": ".py",
   "mimetype": "text/x-python",
   "name": "python",
   "nbconvert_exporter": "python",
   "pygments_lexer": "ipython3",
   "version": "3.11.7"
  }
 },
 "nbformat": 4,
 "nbformat_minor": 5
}
