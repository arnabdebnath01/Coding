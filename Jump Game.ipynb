{
 "cells": [
  {
   "cell_type": "code",
   "execution_count": 1,
   "id": "a1c9ae23-ece1-4a8f-9ffe-fd026632f337",
   "metadata": {},
   "outputs": [
    {
     "name": "stdout",
     "output_type": "stream",
     "text": [
      "True\n"
     ]
    }
   ],
   "source": [
    "\"\"\"\n",
    "Jump Game\n",
    "You are given an integer array nums. You are initially positioned at the array's first index, and each element in the array represents your maximum jump length at that position.\n",
    "\n",
    "Return true if you can reach the last index, or false otherwise.\n",
    "\n",
    " \n",
    "\n",
    "Example 1:\n",
    "\n",
    "Input: nums = [2,3,1,1,4]\n",
    "Output: true\n",
    "Explanation: Jump 1 step from index 0 to 1, then 3 steps to the last index.\n",
    "Example 2:\n",
    "\n",
    "Input: nums = [3,2,1,0,4]\n",
    "Output: false\n",
    "Explanation: You will always arrive at index 3 no matter what. Its maximum jump length is 0, which makes it impossible to reach the last index.\n",
    "\"\"\"\n",
    "\n",
    "def canJump(nums):\n",
    "    max_reach = 0\n",
    "    for i in range(len(nums)):\n",
    "        if i > max_reach:\n",
    "            return False\n",
    "        max_reach = max(max_reach, i + nums[i])\n",
    "    return True\n",
    "\n",
    "nums = [2,3,1,1,4]\n",
    "print(canJump(nums))"
   ]
  },
  {
   "cell_type": "code",
   "execution_count": 2,
   "id": "80491eaa-cf01-43a3-a947-616cf96abc83",
   "metadata": {},
   "outputs": [
    {
     "name": "stdout",
     "output_type": "stream",
     "text": [
      "2\n"
     ]
    }
   ],
   "source": [
    "\"\"\"\n",
    "Jump Game II\n",
    "Solved\n",
    "Medium\n",
    "Topics\n",
    "Companies\n",
    "You are given a 0-indexed array of integers nums of length n. You are initially positioned at nums[0].\n",
    "\n",
    "Each element nums[i] represents the maximum length of a forward jump from index i. In other words, if you are at nums[i], you can jump to any nums[i + j] where:\n",
    "\n",
    "0 <= j <= nums[i] and\n",
    "i + j < n\n",
    "Return the minimum number of jumps to reach nums[n - 1]. The test cases are generated such that you can reach nums[n - 1].\n",
    "\n",
    " \n",
    "\n",
    "Example 1:\n",
    "\n",
    "Input: nums = [2,3,1,1,4]\n",
    "Output: 2\n",
    "Explanation: The minimum number of jumps to reach the last index is 2. Jump 1 step from index 0 to 1, then 3 steps to the last index.\n",
    "Example 2:\n",
    "\n",
    "Input: nums = [2,3,0,1,4]\n",
    "Output: 2\n",
    "\"\"\"\n",
    "\n",
    "def jump(nums):\n",
    "    n = len(nums)\n",
    "    if n <= 1:\n",
    "        return 0\n",
    "    current_end = 0\n",
    "    farthest = 0\n",
    "    jumps = 0\n",
    "    for i in range(n-1):\n",
    "        farthest = max(farthest, i+nums[i])\n",
    "        if i == current_end:\n",
    "            jumps += 1\n",
    "            current_end = farthest\n",
    "            if current_end >= n-1:\n",
    "                break\n",
    "    return jumps\n",
    "\n",
    "nums = [2,3,1,1,4]\n",
    "print(jump(nums))"
   ]
  },
  {
   "cell_type": "code",
   "execution_count": null,
   "id": "b86b68a0-31ba-426d-bff9-c4f2f0793c6f",
   "metadata": {},
   "outputs": [],
   "source": []
  }
 ],
 "metadata": {
  "kernelspec": {
   "display_name": "Python 3 (ipykernel)",
   "language": "python",
   "name": "python3"
  },
  "language_info": {
   "codemirror_mode": {
    "name": "ipython",
    "version": 3
   },
   "file_extension": ".py",
   "mimetype": "text/x-python",
   "name": "python",
   "nbconvert_exporter": "python",
   "pygments_lexer": "ipython3",
   "version": "3.11.7"
  }
 },
 "nbformat": 4,
 "nbformat_minor": 5
}
