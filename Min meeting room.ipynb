{
 "cells": [
  {
   "cell_type": "code",
   "execution_count": null,
   "id": "184a5db9-9d8a-449a-a246-41734313ca48",
   "metadata": {},
   "outputs": [],
   "source": [
    "\"\"\"\n",
    "Meeting room problem\n",
    "\n",
    "Given a list of meetings, represented as tuples with a start and an end time, \n",
    "determine the minimum number of rooms required to schedule all the meetings.\n",
    "\n",
    "Input: meetings = [[5, 10], [2, 3]] Output: 1\n",
    "\n",
    "Input: meetings = [[1, 3], [5, 7], [4, 6], [7, 9], [9, 10]] Output: 2\n",
    "\n",
    "Approach 1: Two Lists\n",
    "One way to implement this algorithm is to use two sorted lists that track the meeting start and end times respectively, iterating over each list with a unique pointer starting at the beginning of each list.\n",
    "\n",
    "When we iterate over \"startTimes\" with the pointer i, we are considering each meeting in the order in which it begins, simulating the timeline from our strategy above. So, with i starting at the first index, we know that a meeting has begun and a room is needed. Pointer j on the \"endTimes\" list will always indicate the next meeting that is ending, and therefore the next time that a room is made available.\n",
    "\n",
    "When i moves forward, we know that another meeting is beginning - but how can we know if we need an additional room? Well, if a currently running meeting ends before this meeting begins, then we can use the same room for both meetings; otherwise, we'll need to get another room.\n",
    "\n",
    "Using this logic, we can compare the value of i - the start of the current meeting - with the value of j - the next ending meeting and thus the next time a room is available - to determine the number of overlapping meetings. If the current start time is smaller than the next upcoming end time, then we know we will need an additional room, so we increment our rooms count. If not, we move the end times pointer forward, indicating that a meeting has ended and room has been freed, and we don't increment the rooms count.\n",
    "\"\"\"\n"
   ]
  },
  {
   "cell_type": "code",
   "execution_count": 4,
   "id": "a457b7f5-2b05-47f3-8f7c-9e04525bab43",
   "metadata": {},
   "outputs": [],
   "source": [
    "def minRoom(meetings):\n",
    "    start_time = []\n",
    "    end_time = []\n",
    "    room = 0\n",
    "    if meetings == []:\n",
    "        return room\n",
    "    for [start, end] in meetings:\n",
    "        start_time.append(start)\n",
    "        end_time.append(end)\n",
    "    start_time.sort()\n",
    "    end_time.sort()\n",
    "\n",
    "    j = 0\n",
    "    for i in range(len(start_time)):\n",
    "        if start_time[i] < end_time[j]:\n",
    "            room += 1\n",
    "        else:\n",
    "            j += 1\n",
    "    return room"
   ]
  },
  {
   "cell_type": "code",
   "execution_count": 5,
   "id": "d117622d-a32f-4c61-b543-94ef665e402f",
   "metadata": {},
   "outputs": [
    {
     "name": "stdout",
     "output_type": "stream",
     "text": [
      "2\n"
     ]
    }
   ],
   "source": [
    "meetings = [[1, 3], [5, 7], [4, 6], [7, 9], [9, 10]]\n",
    "print(minRoom(meetings))"
   ]
  },
  {
   "cell_type": "code",
   "execution_count": null,
   "id": "45f6884a-e971-443e-a413-e7d4446bc738",
   "metadata": {},
   "outputs": [],
   "source": []
  }
 ],
 "metadata": {
  "kernelspec": {
   "display_name": "Python 3 (ipykernel)",
   "language": "python",
   "name": "python3"
  },
  "language_info": {
   "codemirror_mode": {
    "name": "ipython",
    "version": 3
   },
   "file_extension": ".py",
   "mimetype": "text/x-python",
   "name": "python",
   "nbconvert_exporter": "python",
   "pygments_lexer": "ipython3",
   "version": "3.11.7"
  }
 },
 "nbformat": 4,
 "nbformat_minor": 5
}
