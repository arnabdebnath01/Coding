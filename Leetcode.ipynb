{
 "cells": [
  {
   "cell_type": "code",
   "execution_count": 4,
   "id": "52a80fe4-6dab-4f23-843f-c08dec71500a",
   "metadata": {},
   "outputs": [
    {
     "name": "stdout",
     "output_type": "stream",
     "text": [
      "[['Alice', 155], ['Bob', 185], ['Bob', 150]]\n",
      "['Bob', 'Alice', 'Bob']\n"
     ]
    }
   ],
   "source": [
    "\"\"\"\n",
    "2418. Sort the People\n",
    "Easy\n",
    "Topics\n",
    "Companies\n",
    "Hint\n",
    "You are given an array of strings names, and an array heights that consists of distinct positive integers. Both arrays are of length n.\n",
    "\n",
    "For each index i, names[i] and heights[i] denote the name and height of the ith person.\n",
    "\n",
    "Return names sorted in descending order by the people's heights.\n",
    "\n",
    " \n",
    "\n",
    "Example 1:\n",
    "\n",
    "Input: names = [\"Mary\",\"John\",\"Emma\"], heights = [180,165,170]\n",
    "Output: [\"Mary\",\"Emma\",\"John\"]\n",
    "Explanation: Mary is the tallest, followed by Emma and John.\n",
    "Example 2:\n",
    "\n",
    "Input: names = [\"Alice\",\"Bob\",\"Bob\"], heights = [155,185,150]\n",
    "Output: [\"Bob\",\"Alice\",\"Bob\"]\n",
    "Explanation: The first Bob is the tallest, followed by Alice and the second Bob.\n",
    "\"\"\"\n",
    "\n",
    "\n",
    "def sort_people(name, height):\n",
    "    lst = [[a,b] for a,b in zip(name,height)]\n",
    "    print(lst)\n",
    "    lst.sort(key = lambda x:x[1], reverse = True)\n",
    "    return [i[0] for i in lst]\n",
    "\n",
    "\n",
    "name = [\"Alice\",\"Bob\",\"Bob\"]\n",
    "height = [155,185,150]\n",
    "print(sort_people(name, height))"
   ]
  },
  {
   "cell_type": "code",
   "execution_count": 5,
   "id": "baca4dc2-2982-4f61-91a2-2e648f94d69d",
   "metadata": {},
   "outputs": [],
   "source": [
    "\"\"\"\n",
    "1636. Sort Array by Increasing Frequency\n",
    "Solved\n",
    "Easy\n",
    "Topics\n",
    "Companies\n",
    "Hint\n",
    "Given an array of integers nums, sort the array in increasing order based on the frequency of the values. If multiple values have the same frequency, sort them in decreasing order.\n",
    "\n",
    "Return the sorted array.\n",
    "\n",
    " \n",
    "\n",
    "Example 1:\n",
    "\n",
    "Input: nums = [1,1,2,2,2,3]\n",
    "Output: [3,1,1,2,2,2]\n",
    "Explanation: '3' has a frequency of 1, '1' has a frequency of 2, and '2' has a frequency of 3.\n",
    "Example 2:\n",
    "\n",
    "Input: nums = [2,3,1,3,2]\n",
    "Output: [1,3,3,2,2]\n",
    "Explanation: '2' and '3' both have a frequency of 2, so they are sorted in decreasing order.\n",
    "Example 3:\n",
    "\n",
    "Input: nums = [-1,1,-6,4,5,-6,1,4,1]\n",
    "Output: [5,-1,4,4,-6,-6,1,1,1]\n",
    "\"\"\"\n",
    "\n",
    "def frequencySort(nums):\n",
    "        nums.sort(reverse = True)\n",
    "        result = sorted(nums, key = nums.count)\n",
    "        return result\n"
   ]
  },
  {
   "cell_type": "code",
   "execution_count": 1,
   "id": "af733b6b-6a89-46c3-9b84-fbeb8b0b157b",
   "metadata": {},
   "outputs": [
    {
     "name": "stdout",
     "output_type": "stream",
     "text": [
      "[[5, 6], [3, 4]]\n"
     ]
    }
   ],
   "source": [
    "\"\"\"\n",
    "2545. Sort the Students by Their Kth Score\n",
    "Medium\n",
    "Topics\n",
    "Companies\n",
    "Hint\n",
    "There is a class with m students and n exams. You are given a 0-indexed m x n integer matrix score, where each row represents one student and score[i][j] denotes the score the ith student got in the jth exam. The matrix score contains distinct integers only.\n",
    "\n",
    "You are also given an integer k. Sort the students (i.e., the rows of the matrix) by their scores in the kth (0-indexed) exam from the highest to the lowest.\n",
    "\n",
    "Return the matrix after sorting it.\n",
    "\n",
    " \n",
    "\n",
    "Example 1:\n",
    "\n",
    "\n",
    "Input: score = [[10,6,9,1],[7,5,11,2],[4,8,3,15]], k = 2\n",
    "Output: [[7,5,11,2],[10,6,9,1],[4,8,3,15]]\n",
    "Explanation: In the above diagram, S denotes the student, while E denotes the exam.\n",
    "- The student with index 1 scored 11 in exam 2, which is the highest score, so they got first place.\n",
    "- The student with index 0 scored 9 in exam 2, which is the second highest score, so they got second place.\n",
    "- The student with index 2 scored 3 in exam 2, which is the lowest score, so they got third place.\n",
    "Example 2:\n",
    "\n",
    "\n",
    "Input: score = [[3,4],[5,6]], k = 0\n",
    "Output: [[5,6],[3,4]]\n",
    "Explanation: In the above diagram, S denotes the student, while E denotes the exam.\n",
    "- The student with index 1 scored 5 in exam 0, which is the highest score, so they got first place.\n",
    "- The student with index 0 scored 3 in exam 0, which is the lowest score, so they got second place.\n",
    "\"\"\"\n",
    "\n",
    "\n",
    "def sortTheStudents(score, k):\n",
    "    score.sort(key = lambda x:x[k], reverse = True)\n",
    "    return score\n",
    "\n",
    "\n",
    "\n",
    "score = [[3,4],[5,6]]\n",
    "k = 0\n",
    "print(sortTheStudents(score, k))"
   ]
  },
  {
   "cell_type": "code",
   "execution_count": 13,
   "id": "ce95dc5c-dffd-4962-b8bc-7f518e3ce1a1",
   "metadata": {},
   "outputs": [
    {
     "name": "stdout",
     "output_type": "stream",
     "text": [
      "[338, 38, 991]\n"
     ]
    }
   ],
   "source": [
    "\"\"\"\n",
    "2191. Sort the Jumbled Numbers\n",
    "Medium\n",
    "Topics\n",
    "Companies\n",
    "Hint\n",
    "You are given a 0-indexed integer array mapping which represents the mapping rule of a shuffled decimal system. mapping[i] = j means digit i should be mapped to digit j in this system.\n",
    "\n",
    "The mapped value of an integer is the new integer obtained by replacing each occurrence of digit i in the integer with mapping[i] for all 0 <= i <= 9.\n",
    "\n",
    "You are also given another integer array nums. Return the array nums sorted in non-decreasing order based on the mapped values of its elements.\n",
    "\n",
    "Notes:\n",
    "\n",
    "Elements with the same mapped values should appear in the same relative order as in the input.\n",
    "The elements of nums should only be sorted based on their mapped values and not be replaced by them.\n",
    " \n",
    "\n",
    "Example 1:\n",
    "\n",
    "Input: mapping = [8,9,4,0,2,1,3,5,7,6], nums = [991,338,38]\n",
    "Output: [338,38,991]\n",
    "Explanation: \n",
    "Map the number 991 as follows:\n",
    "1. mapping[9] = 6, so all occurrences of the digit 9 will become 6.\n",
    "2. mapping[1] = 9, so all occurrences of the digit 1 will become 9.\n",
    "Therefore, the mapped value of 991 is 669.\n",
    "338 maps to 007, or 7 after removing the leading zeros.\n",
    "38 maps to 07, which is also 7 after removing leading zeros.\n",
    "Since 338 and 38 share the same mapped value, they should remain in the same relative order, so 338 comes before 38.\n",
    "Thus, the sorted array is [338,38,991].\n",
    "Example 2:\n",
    "\n",
    "Input: mapping = [0,1,2,3,4,5,6,7,8,9], nums = [789,456,123]\n",
    "Output: [123,456,789]\n",
    "Explanation: 789 maps to 789, 456 maps to 456, and 123 maps to 123. Thus, the sorted array is [123,456,789].\n",
    "\"\"\"\n",
    "\n",
    "\n",
    "def sortJumbled(mapping, nums):\n",
    "    new_lst = []\n",
    "    st_new = \"\"\n",
    "    mp = {}\n",
    "    for i in range(len(mapping)):\n",
    "        mp[str(i)] = mapping[i]\n",
    "    for i in nums:\n",
    "        st = str(i)\n",
    "        for j in st:\n",
    "            st_new += str(mp[j])\n",
    "        new_lst.append(int(st_new))\n",
    "        st_new = \"\"\n",
    "        lst_1 = [[a,b] for a,b in zip(new_lst, nums)]\n",
    "    lst_1.sort(key = lambda x:x[0])\n",
    "    return [i[1] for i in lst_1]\n",
    "\n",
    "mapping = [8,9,4,0,2,1,3,5,7,6]\n",
    "nums = [991,338,38]\n",
    "print(sortJumbled(mapping, nums))\n",
    "\n",
    "\n",
    "# more efficient approach\n",
    "\n",
    "def sortJumbled(self, mapping: list[int], nums: list[int]) -> list[int]:\n",
    "    def translate_integer(num: int) -> int:\n",
    "        digits: list[str] = list(str(num))\n",
    "        for i in range(len(digits)):\n",
    "            digits[i] = str(mapping[int(digits[i])])\n",
    "        return int(\"\".join(digits))\n",
    "\n",
    "    number_mapping: dict[int, int] = {}\n",
    "    for num in nums:\n",
    "        number_mapping[num] = translate_integer(num)\n",
    "    nums.sort(key=lambda val: number_mapping[val])\n",
    "\n",
    "    return nums"
   ]
  },
  {
   "cell_type": "code",
   "execution_count": 3,
   "id": "20b2eebc-56a5-4b7f-8af2-c94d531e20e3",
   "metadata": {},
   "outputs": [
    {
     "name": "stdout",
     "output_type": "stream",
     "text": [
      "[<class '__main__.D'>, <class '__main__.B'>, <class '__main__.C'>, <class '__main__.A'>, <class 'object'>]\n",
      "b\n"
     ]
    }
   ],
   "source": [
    "class A:\n",
    "    def abc(self):\n",
    "        print(\"a\")\n",
    "class B(A):\n",
    "    def abc(self):\n",
    "        print(\"b\")\n",
    "class C(A):\n",
    "    def abc(self):\n",
    "        print(\"c\")\n",
    "\n",
    "class D(B,C):\n",
    "    pass\n",
    "\n",
    "print(D.mro())\n",
    "\n",
    "d = D()\n",
    "d.abc()"
   ]
  },
  {
   "cell_type": "code",
   "execution_count": 7,
   "id": "0e935660-8e10-4184-bb9f-905f2d36f192",
   "metadata": {},
   "outputs": [
    {
     "name": "stdout",
     "output_type": "stream",
     "text": [
      "[6, 5, 2, 3]\n",
      "[6, 5, 2, 3]\n"
     ]
    }
   ],
   "source": [
    "#reverse a list without using any functions\n",
    "\n",
    "lst = [3,2,5,6]\n",
    "print(lst[::-1])\n",
    "\n",
    "#method2\n",
    "n = len(lst)\n",
    "for i in range(int(n/2)):\n",
    "    lst[i], lst[n-i-1] = lst[n-i-1], lst[i]\n",
    "print(lst)"
   ]
  },
  {
   "cell_type": "code",
   "execution_count": 3,
   "id": "6d9d8908-0d9b-475f-a0ae-5c484b8a43ba",
   "metadata": {},
   "outputs": [
    {
     "name": "stdout",
     "output_type": "stream",
     "text": [
      "[1, 8, 6, 17, 2]\n",
      "[17, 8, 1]\n"
     ]
    }
   ],
   "source": [
    "\"\"\"\n",
    "find list of all people that will see all people in front of them, without sorting. The list will contain heights of the people\n",
    "\n",
    "Input = [2, 17, 6. 8, 1]\n",
    "Output = [1, 8, 17]\n",
    "\"\"\"\n",
    "\n",
    "def maxHeight(lst):\n",
    "    l1 = list(reversed(lst))\n",
    "    print(l1)\n",
    "    l2 = []\n",
    "    max_element = l1[0]\n",
    "    for i in l1:\n",
    "        if i >= max_element:\n",
    "            max_element = i\n",
    "            l2.insert(0, i)\n",
    "    return l2\n",
    "\n",
    "lst = [2, 17, 6, 8, 1]\n",
    "print(maxHeight(lst))"
   ]
  },
  {
   "cell_type": "code",
   "execution_count": 2,
   "id": "3ab0b06b-e2a9-4b08-81da-eaedada2b4d8",
   "metadata": {},
   "outputs": [
    {
     "name": "stdout",
     "output_type": "stream",
     "text": [
      "C:\\Users\\Arnab\\Interview\n"
     ]
    }
   ],
   "source": [
    "import os\n",
    "print(os.getcwd())"
   ]
  },
  {
   "cell_type": "code",
   "execution_count": 20,
   "id": "4d5b0e63-b705-4581-9433-106b3d092e07",
   "metadata": {},
   "outputs": [
    {
     "name": "stdout",
     "output_type": "stream",
     "text": [
      "<class 'list'>\n",
      "{'name': 'Kumar', 'age': 25}\n",
      "<class 'dict'>\n",
      "{'name': 'Prem', 'age': 50}\n",
      "<class 'dict'>\n",
      "{'name': 'Singh', 'age': 40}\n",
      "<class 'dict'>\n",
      "{'name': 'Mohan', 'age': 22}\n",
      "<class 'dict'>\n",
      "--------------------\n",
      "[{'name': 'Prem', 'age': 50}, {'name': 'Singh', 'age': 40}]\n",
      "\n",
      "using comprehension:\n",
      "\n",
      "[{'name': 'Prem', 'age': 50}, {'name': 'Singh', 'age': 40}]\n"
     ]
    }
   ],
   "source": [
    "\"\"\"\n",
    "user_list = [\n",
    "   {'name': \"Kumar\", 'age': 25},\n",
    "   {'name': \"Prem\", 'age': 50},\n",
    "   {'name': \"Singh\", 'age': 40},\n",
    "   {'name': \"Mohan\", 'age': 22}\n",
    "]\n",
    " \n",
    "consider this list, print all values whose age is > 25\n",
    "\n",
    "\"\"\"\n",
    "\n",
    "user_list = [\n",
    "   {'name': \"Kumar\", 'age': 25},\n",
    "   {'name': \"Prem\", 'age': 50},\n",
    "   {'name': \"Singh\", 'age': 40},\n",
    "   {'name': \"Mohan\", 'age': 22}\n",
    "]\n",
    "print(type(user_list))\n",
    "for i in user_list:\n",
    "    print(i)\n",
    "    print(type(i))\n",
    "print(\"--------------------\")\n",
    "lst = []\n",
    "for i in user_list:\n",
    "    if i[\"age\"] > 25:\n",
    "        lst.append(i)\n",
    "print(lst)\n",
    "\n",
    "print(\"\\nusing comprehension:\\n\")\n",
    "x = [i for i in user_list if i[\"age\"] > 25]\n",
    "print(x)"
   ]
  },
  {
   "cell_type": "code",
   "execution_count": 17,
   "id": "0bca5bb4-aead-4b17-a7a0-217ffaf0e3a0",
   "metadata": {},
   "outputs": [
    {
     "name": "stdout",
     "output_type": "stream",
     "text": [
      "3\n",
      "3\n"
     ]
    }
   ],
   "source": [
    "\"\"\"\n",
    "a_list = [3,1,6,2]\n",
    "print the 2nd highest element\n",
    "\"\"\"\n",
    "\n",
    "a_list = [3,1,6,2]\n",
    "\n",
    "#using sorting\n",
    "for i in range(len(a_list)-1):\n",
    "    #print(i)\n",
    "    for j in range(i,len(a_list)):\n",
    "        if a_list[i] < a_list[j]:\n",
    "            a_list[i], a_list[j] = a_list[j], a_list[i]\n",
    "print(a_list[1])\n",
    "\n",
    "#without sorting\n",
    "\n",
    "sublist = max([x for x in a_list if x < max(a_list)])\n",
    "print(sublist)"
   ]
  },
  {
   "cell_type": "code",
   "execution_count": 1,
   "id": "973598c5-6bc3-40d2-9936-04209364ea4e",
   "metadata": {},
   "outputs": [
    {
     "name": "stdout",
     "output_type": "stream",
     "text": [
      "Class A Class B\n"
     ]
    }
   ],
   "source": [
    "\"\"\"\n",
    "class A:\n",
    "  def test(self):\n",
    "     return \"Class A\"\n",
    " \n",
    "class B:\n",
    "   def test(self):\n",
    "      return \"Class B\"\n",
    "   \n",
    " \n",
    "print(B().test())\n",
    "Output = \"Class A Class B\"\n",
    "\"\"\"\n",
    "class A:\n",
    "  def test(self):\n",
    "     return \"Class A\"\n",
    " \n",
    "class B(A):\n",
    "   def test(self):\n",
    "      return super().test()+\" Class B\"\n",
    "\n",
    "\n",
    "print(B().test())\n"
   ]
  },
  {
   "cell_type": "code",
   "execution_count": 2,
   "id": "1e3699ef-5fce-43ee-bdeb-6fa1712df47e",
   "metadata": {},
   "outputs": [
    {
     "name": "stdout",
     "output_type": "stream",
     "text": [
      "9\n"
     ]
    }
   ],
   "source": [
    "\"\"\"\n",
    "Roman to Number\n",
    "\"\"\"\n",
    "\n",
    "def romanToInt(st):\n",
    "    m = {\n",
    "        \"I\": 1,\n",
    "        \"V\": 5,\n",
    "        \"X\": 10,\n",
    "        \"L\": 50,\n",
    "        \"C\": 100,\n",
    "        \"D\": 500,\n",
    "        \"M\": 1000\n",
    "    }\n",
    "\n",
    "    ans = 0\n",
    "    for i in range(len(st)):\n",
    "        if i < len(st)-1 and m[st[i]] < m[st[i+1]]:\n",
    "            ans -= m[st[i]]\n",
    "        else:\n",
    "            ans += m[st[i]]\n",
    "    return ans\n",
    "\n",
    "\n",
    "st = \"IX\"\n",
    "print(romanToInt(st))"
   ]
  },
  {
   "cell_type": "code",
   "execution_count": 9,
   "id": "d48b5657-8405-49f5-b7c4-2c1931bed8c4",
   "metadata": {},
   "outputs": [
    {
     "name": "stdout",
     "output_type": "stream",
     "text": [
      "{4: 0}\n",
      "{4: 0, 5: 1}\n",
      "{4: 0, 5: 1, 9: 2}\n",
      "{4: 0, 5: 1, 9: 2, 7: 3}\n",
      "[3, 4]\n"
     ]
    }
   ],
   "source": [
    "\"\"\"\n",
    "two-sum problem\n",
    "The Two Sum problem asks us to find two numbers in an array that sum up to a given target value. \n",
    "We need to return the indices of these two numbers.\n",
    "\"\"\"\n",
    "\n",
    "def twoSum(lst, target):\n",
    "    numMap = {}\n",
    "    for i in range(len(lst)):\n",
    "        complement = target - lst[i]\n",
    "        if complement in numMap:\n",
    "            #print(numMap)\n",
    "            return [numMap[complement], i]\n",
    "        numMap[lst[i]] = i\n",
    "        print(numMap)\n",
    "    return []\n",
    "\n",
    "\n",
    "lst = [4,5,9,7,-4]\n",
    "target = 3\n",
    "print(twoSum(lst, target))"
   ]
  },
  {
   "cell_type": "code",
   "execution_count": 17,
   "id": "db81e368-17e8-449f-9c80-7805d07c7329",
   "metadata": {},
   "outputs": [
    {
     "name": "stdout",
     "output_type": "stream",
     "text": [
      "{1: 1}\n",
      "{1: 1, 2: 1}\n",
      "{1: 1, 2: 1, 3: 1}\n",
      "{1: 1, 2: 1, 3: 1, 4: 1}\n",
      "{1: 1, 2: 1, 3: 1, 4: 1, 5: 1}\n",
      "True\n"
     ]
    }
   ],
   "source": [
    "\"\"\"\n",
    "contains duplicates\n",
    "Check if an array/list contains duplicate values\n",
    "\"\"\"\n",
    "\"\"\"\n",
    "def containsDup(lst):\n",
    "    seen = {}\n",
    "    for num in lst:\n",
    "        if num in seen:\n",
    "            return True\n",
    "        seen[num] = seen.get(num, 0) + 1\n",
    "        print(seen)\n",
    "    return False\n",
    "\n",
    "\"\"\"\n",
    "#method2\n",
    "def Dup2(lst):\n",
    "    seen = {}\n",
    "    for num in lst:\n",
    "        if num not in seen:\n",
    "            seen[num] = 1\n",
    "        else:\n",
    "            return True\n",
    "        print(seen)\n",
    "    return False\n",
    "\n",
    "lst = [1,2,3,4,5,5]\n",
    "print(Dup2(lst))"
   ]
  },
  {
   "cell_type": "code",
   "execution_count": 15,
   "id": "0e1a8c0d-5ffc-4dec-8461-b1c9fef7fbe5",
   "metadata": {},
   "outputs": [
    {
     "name": "stdout",
     "output_type": "stream",
     "text": [
      "{'a': 3, 'b': 1, 'd': 1, 'c': 2, 'e': 1}\n"
     ]
    }
   ],
   "source": [
    "\"\"\"\n",
    "store frequencies of letters from a string\n",
    "\"\"\"\n",
    "\n",
    "def freq(st):\n",
    "    freq = {}\n",
    "    for i in st:\n",
    "        if i not in freq.keys():\n",
    "            freq[i] = 1\n",
    "        else:\n",
    "            freq[i] += 1\n",
    "    return freq\n",
    "\n",
    "st = \"abadccea\"\n",
    "print(freq(st))"
   ]
  },
  {
   "cell_type": "code",
   "execution_count": 22,
   "id": "71a08239-90ac-46c2-875a-ba50ea5312dd",
   "metadata": {},
   "outputs": [
    {
     "name": "stdout",
     "output_type": "stream",
     "text": [
      "3\n",
      "2\n"
     ]
    }
   ],
   "source": [
    "\"\"\"\n",
    "Majority Element\n",
    "Given an array nums of size n, return the majority element.\n",
    "\n",
    "The majority element is the element that appears more than ⌊n / 2⌋ times. You may assume that the majority element always exists in the array.\n",
    "\n",
    " \n",
    "\n",
    "Example 1:\n",
    "\n",
    "Input: nums = [3,2,3]\n",
    "Output: 3\n",
    "Example 2:\n",
    "\n",
    "Input: nums = [2,2,1,1,1,2,2]\n",
    "Output: 2\n",
    "\"\"\"\n",
    "def majorityElement(nums):\n",
    "    freq = {}\n",
    "    for num in nums:\n",
    "        if num not in freq.keys():\n",
    "            freq[num] = 1\n",
    "        else:\n",
    "            freq[num] += 1\n",
    "\n",
    "    l = len(nums) // 2\n",
    "    for key, value in freq.items():\n",
    "        #print(key,value)\n",
    "        if value > l:\n",
    "            return key\n",
    "\n",
    "nums = [3,2,3]\n",
    "print(majorityElement(nums))\n",
    "\n",
    "nums1 = [2,2,1,1,1,2,2]\n",
    "print(majorityElement(nums1))"
   ]
  },
  {
   "cell_type": "code",
   "execution_count": 1,
   "id": "55e6c929-f146-4b2d-aec3-ceb24112d0cc",
   "metadata": {},
   "outputs": [
    {
     "name": "stdout",
     "output_type": "stream",
     "text": [
      "[5, 6, 7, 1, 2, 3, 4]\n"
     ]
    }
   ],
   "source": [
    "\"\"\"\n",
    "Rotate Array\n",
    "Given an integer array nums, rotate the array to the right by k steps, where k is non-negative.\n",
    "\n",
    " \n",
    "\n",
    "Example 1:\n",
    "\n",
    "Input: nums = [1,2,3,4,5,6,7], k = 3\n",
    "Output: [5,6,7,1,2,3,4]\n",
    "Explanation:\n",
    "rotate 1 steps to the right: [7,1,2,3,4,5,6]\n",
    "rotate 2 steps to the right: [6,7,1,2,3,4,5]\n",
    "rotate 3 steps to the right: [5,6,7,1,2,3,4]\n",
    "Example 2:\n",
    "\n",
    "Input: nums = [-1,-100,3,99], k = 2\n",
    "Output: [3,99,-1,-100]\n",
    "Explanation: \n",
    "rotate 1 steps to the right: [99,-1,-100,3]\n",
    "rotate 2 steps to the right: [3,99,-1,-100]\n",
    "\n",
    "\"\"\"\n",
    "\"\"\"\n",
    "k = k % len(nums): This ensures that k is within the bounds of the list length. For example, if k is greater than the length of the list, \n",
    "this line will adjust k to be within the valid range.\n",
    "nums[:] = nums[-k:] + nums[:-k]: This line performs the rotation:\n",
    "nums[-k:] takes the last k elements of the list.\n",
    "nums[:-k] takes the elements from the start of the list up to the len(nums) - k position.\n",
    "The two slices are concatenated to form the rotated list, and nums[:] ensures that the original list is updated in place.\n",
    "For example, with nums = [1, 2, 3, 4, 5] and k = 3:\n",
    "\n",
    "k = k % len(nums) results in k = 3.\n",
    "nums[-3:] gives [3, 4, 5].\n",
    "nums[:-3] gives [1, 2].\n",
    "Concatenating these gives [3, 4, 5, 1, 2].\n",
    "So, the list nums is rotated to [3, 4, 5, 1, 2]\n",
    "\"\"\"\n",
    "def rotate(nums, k):\n",
    "    k = k % len(nums)\n",
    "    nums[:] = nums[-k:] + nums[:-k]\n",
    "\n",
    "nums = [1,2,3,4,5,6,7]\n",
    "k = 3\n",
    "rotate(nums, k)\n",
    "print(nums)"
   ]
  },
  {
   "cell_type": "code",
   "execution_count": 5,
   "id": "80e6561b-7ca3-41de-94aa-9bcdf792d538",
   "metadata": {},
   "outputs": [
    {
     "name": "stdout",
     "output_type": "stream",
     "text": [
      "[1, 2]\n",
      "[2, 3, 4, 5]\n"
     ]
    }
   ],
   "source": [
    "lst = [1,2,3,4,5]\n",
    "print(lst[:-3]) # ends at -3 from end i.e 5 == -1\n",
    "print(lst[-4:]) #starts from end i.e 5 == -1"
   ]
  },
  {
   "cell_type": "code",
   "execution_count": 11,
   "id": "06b2e901-b79f-41c4-85e1-c4cb0676d8d2",
   "metadata": {},
   "outputs": [
    {
     "name": "stdout",
     "output_type": "stream",
     "text": [
      "[3]\n"
     ]
    }
   ],
   "source": [
    "lst = [1,2,3,4,5]\n",
    "print(lst[2::-3])"
   ]
  },
  {
   "cell_type": "code",
   "execution_count": 16,
   "id": "a0a4a452-f61c-4e32-99d4-88a3e5772bc0",
   "metadata": {},
   "outputs": [
    {
     "name": "stdout",
     "output_type": "stream",
     "text": [
      "1\n",
      "0\n",
      "2\n",
      "1\n"
     ]
    }
   ],
   "source": [
    "def maxProfit(prices):\n",
    "    buy = min(prices)\n",
    "    print(buy)\n",
    "    if buy == prices[len(prices)-1]:\n",
    "        return 0\n",
    "    else:\n",
    "        sell = 0\n",
    "        i = prices.index(buy)\n",
    "        print(i)\n",
    "        for j in range(i, len(prices)):\n",
    "            \n",
    "    return sell-buy\n",
    "\n",
    "prices = [1,2]\n",
    "print(maxProfit(prices))"
   ]
  },
  {
   "cell_type": "code",
   "execution_count": 9,
   "id": "396b12ec-519f-45ba-93b1-f4cccc67cf7a",
   "metadata": {},
   "outputs": [
    {
     "name": "stdout",
     "output_type": "stream",
     "text": [
      "[1, 4, 5, 7, 9]\n",
      "[3, 6, 7, 9, 10]\n",
      "2\n"
     ]
    }
   ],
   "source": [
    "\"\"\"\n",
    "VVI\n",
    "Meeting room problem\n",
    "\n",
    "Given a list of meetings, represented as tuples with a start and an end time, \n",
    "determine the minimum number of rooms required to schedule all the meetings.\n",
    "\n",
    "Input: meetings = [[5, 10], [2, 3]] Output: 1\n",
    "\n",
    "Input: meetings = [[1, 3], [5, 7], [4, 6], [7, 9], [9, 10]] Output: 2\n",
    "\n",
    "Approach 1: Two Lists\n",
    "One way to implement this algorithm is to use two sorted lists that track the meeting start and end times respectively, iterating over each list with a unique pointer starting at the beginning of each list.\n",
    "\n",
    "When we iterate over \"startTimes\" with the pointer i, we are considering each meeting in the order in which it begins, simulating the timeline from our strategy above. So, with i starting at the first index, we know that a meeting has begun and a room is needed. Pointer j on the \"endTimes\" list will always indicate the next meeting that is ending, and therefore the next time that a room is made available.\n",
    "\n",
    "When i moves forward, we know that another meeting is beginning - but how can we know if we need an additional room? Well, if a currently running meeting ends before this meeting begins, then we can use the same room for both meetings; otherwise, we'll need to get another room.\n",
    "\n",
    "Using this logic, we can compare the value of i - the start of the current meeting - with the value of j - the next ending meeting and thus the next time a room is available - to determine the number of overlapping meetings. If the current start time is smaller than the next upcoming end time, then we know we will need an additional room, so we increment our rooms count. If not, we move the end times pointer forward, indicating that a meeting has ended and room has been freed, and we don't increment the rooms count.\n",
    "\"\"\"\n",
    "\n",
    "def minRooms(meetings):\n",
    "    start_time = []\n",
    "    end_time = []\n",
    "    room = 0\n",
    "    if meetings == []:\n",
    "        return room\n",
    "    for [start, end] in meetings:\n",
    "        start_time.append(start)\n",
    "        end_time.append(end)\n",
    "\n",
    "    start_time.sort()\n",
    "    end_time.sort()\n",
    "    print(start_time)\n",
    "    print(end_time)\n",
    "    j = 0\n",
    "    for i in range(len(start_time)):\n",
    "        if start_time[i] < end_time[j]:\n",
    "            room += 1\n",
    "        else:\n",
    "            j += 1\n",
    "    return room\n",
    "\n",
    "meetings = [[1, 3], [5, 7], [4, 6], [7, 9], [9, 10]]\n",
    "print(minRooms(meetings))"
   ]
  },
  {
   "cell_type": "code",
   "execution_count": 5,
   "id": "d2dbf5aa-b9a1-4289-adab-fb165b305125",
   "metadata": {},
   "outputs": [
    {
     "name": "stdout",
     "output_type": "stream",
     "text": [
      "[]\n"
     ]
    }
   ],
   "source": [
    "meeting = []\n",
    "if meeting == []:\n",
    "    print(\"[]\")"
   ]
  },
  {
   "cell_type": "code",
   "execution_count": 3,
   "id": "51e15371-10d4-44c6-9d2c-5343727be680",
   "metadata": {},
   "outputs": [
    {
     "name": "stdout",
     "output_type": "stream",
     "text": [
      "(0, 2)\n",
      "(1, 7)\n",
      "(2, 11)\n",
      "(3, 15)\n"
     ]
    },
    {
     "data": {
      "text/plain": [
       "'\\ndef twoSum(nums, target):\\n    hash = {}\\n    for num in enumerate(nums):\\n        compliment = target - num\\n'"
      ]
     },
     "execution_count": 3,
     "metadata": {},
     "output_type": "execute_result"
    }
   ],
   "source": [
    "\"\"\"\n",
    "Two sum problem\n",
    "\n",
    "Given an array of integers nums and an integer target, return the indices of the two numbers that add up to the target.\n",
    "Input: nums = [2,7,11,15], target = 9\n",
    "Output: [0,1]\n",
    "Explanation: Because nums[0] + nums[1] == 9, we return [0, 1].\n",
    "\n",
    "\"\"\"\n",
    "nums = [2,7,11,15]\n",
    "for i in enumerate(nums):\n",
    "    print(i)\n",
    "\n",
    "def twoSum(nums, target):\n",
    "    hash = {}\n",
    "    for i, num in enumerate(nums):\n",
    "        compliment = target - num\n",
    "        if compliment in hash.keys():\n",
    "            return []\n",
    "        "
   ]
  },
  {
   "cell_type": "code",
   "execution_count": null,
   "id": "41e2eedc-9247-41f9-89e5-39ff722bb193",
   "metadata": {},
   "outputs": [],
   "source": []
  }
 ],
 "metadata": {
  "kernelspec": {
   "display_name": "Python 3 (ipykernel)",
   "language": "python",
   "name": "python3"
  },
  "language_info": {
   "codemirror_mode": {
    "name": "ipython",
    "version": 3
   },
   "file_extension": ".py",
   "mimetype": "text/x-python",
   "name": "python",
   "nbconvert_exporter": "python",
   "pygments_lexer": "ipython3",
   "version": "3.11.7"
  }
 },
 "nbformat": 4,
 "nbformat_minor": 5
}
