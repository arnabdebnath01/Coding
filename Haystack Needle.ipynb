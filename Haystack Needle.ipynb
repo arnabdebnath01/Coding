{
 "cells": [
  {
   "cell_type": "code",
   "execution_count": null,
   "id": "7233af35-78fe-4408-aefd-6f93bafd5b2d",
   "metadata": {},
   "outputs": [],
   "source": [
    "\"\"\"\n",
    "Find the Index of the First Occurrence in a String\n",
    "Given two strings needle and haystack, return the index of the first occurrence of needle in haystack, or -1 if needle is not part of haystack.\n",
    "\n",
    " \n",
    "\n",
    "Example 1:\n",
    "\n",
    "Input: haystack = \"sadbutsad\", needle = \"sad\"\n",
    "Output: 0\n",
    "Explanation: \"sad\" occurs at index 0 and 6.\n",
    "The first occurrence is at index 0, so we return 0.\n",
    "Example 2:\n",
    "\n",
    "Input: haystack = \"leetcode\", needle = \"leeto\"\n",
    "Output: -1\n",
    "Explanation: \"leeto\" did not occur in \"leetcode\", so we return -1.\n",
    "\"\"\""
   ]
  },
  {
   "cell_type": "code",
   "execution_count": 1,
   "id": "fcc75631-7458-4d35-9744-95723d704c55",
   "metadata": {},
   "outputs": [],
   "source": [
    "def findId(haystack, needle):\n",
    "    m = len(haystack)\n",
    "    n = len(needle)\n",
    "    for i in range(m-n+1):\n",
    "        if haystack[i:i+n] == needle:\n",
    "            return i\n",
    "    return -1"
   ]
  },
  {
   "cell_type": "code",
   "execution_count": 3,
   "id": "4865dd5f-fb36-4826-977c-554a27b62b65",
   "metadata": {},
   "outputs": [
    {
     "name": "stdout",
     "output_type": "stream",
     "text": [
      "0\n",
      "2\n"
     ]
    }
   ],
   "source": [
    "haystack = \"sadbutsad\"\n",
    "needle = \"sad\"\n",
    "print(findId(haystack, needle))\n",
    "\n",
    "haystack = \"meera\"\n",
    "needle = \"er\"\n",
    "print(findId(haystack, needle))"
   ]
  },
  {
   "cell_type": "code",
   "execution_count": null,
   "id": "e07fe105-26da-48fa-851c-4ed67236f98f",
   "metadata": {},
   "outputs": [],
   "source": []
  }
 ],
 "metadata": {
  "kernelspec": {
   "display_name": "Python 3 (ipykernel)",
   "language": "python",
   "name": "python3"
  },
  "language_info": {
   "codemirror_mode": {
    "name": "ipython",
    "version": 3
   },
   "file_extension": ".py",
   "mimetype": "text/x-python",
   "name": "python",
   "nbconvert_exporter": "python",
   "pygments_lexer": "ipython3",
   "version": "3.11.7"
  }
 },
 "nbformat": 4,
 "nbformat_minor": 5
}
